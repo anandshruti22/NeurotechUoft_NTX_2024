{
  "nbformat": 4,
  "nbformat_minor": 0,
  "metadata": {
    "colab": {
      "provenance": [],
      "gpuType": "T4"
    },
    "kernelspec": {
      "name": "python3",
      "display_name": "Python 3"
    },
    "language_info": {
      "name": "python"
    },
    "accelerator": "GPU"
  },
  "cells": [
    {
      "cell_type": "markdown",
      "source": [
        "# Pip installs\n"
      ],
      "metadata": {
        "id": "JZbQdt08YIlL"
      }
    },
    {
      "cell_type": "code",
      "source": [
        "!pip install mne"
      ],
      "metadata": {
        "id": "sRendEQaYSfd"
      },
      "execution_count": null,
      "outputs": []
    },
    {
      "cell_type": "code",
      "source": [
        "import tensorflow as tf\n",
        "import keras\n",
        "from keras import layers\n",
        "from tensorflow.keras.losses import BinaryCrossentropy, CategoricalCrossentropy, SparseCategoricalCrossentropy, MeanSquaredError\n",
        "import mne\n",
        "from mne.preprocessing import ICA, corrmap, create_ecg_epochs, create_eog_epochs\n",
        "import numpy as np\n",
        "import csv\n",
        "import pickle"
      ],
      "metadata": {
        "id": "_TtUBiAVYUGh"
      },
      "execution_count": null,
      "outputs": []
    },
    {
      "cell_type": "markdown",
      "source": [
        "# Getting the raw data\n",
        "Each element of data referes to one subject, each element of data has 12 elements, each corrosponds to one trial, label has the same format\n",
        "\n",
        "If you have a different directory to get the data from, feel free to change"
      ],
      "metadata": {
        "id": "DcdPOmOPbosp"
      }
    },
    {
      "cell_type": "code",
      "source": [
        "# sample data for all subjects\n",
        "data = []\n",
        "labels = []\n",
        "num_of_subjects = 109\n",
        "\n",
        "for j in range(1, num_of_subjects + 1):\n",
        "  j_subject_data = []\n",
        "  j_subject_label = []\n",
        "  for i in range(1, 15):\n",
        "    if j < 10:\n",
        "      if i < 10:\n",
        "        file = \"./files/S00\" + str(j) + \"/S00\" + str(j) + \"R0\" + str(i) + \".edf\"\n",
        "      else:\n",
        "        file = \"./files/S00\" + str(j) + \"/S00\" + str(j) + \"R\" + str(i) + \".edf\"\n",
        "    elif j < 100:\n",
        "      if i < 10:\n",
        "        file = \"./files/S0\" + str(j) + \"/S0\" + str(j) + \"R0\" + str(i) + \".edf\"\n",
        "      else:\n",
        "        file = \"./files/S0\"+ str(j) + \"/S0\" + str(j) + \"R\" + str(i) + \".edf\"\n",
        "    else:\n",
        "      if i < 10:\n",
        "        file = \"./files/S\" + str(j) + \"/S\" + str(j) + \"R0\" + str(i) + \".edf\"\n",
        "      else:\n",
        "        file = \"./files/S\"+ str(j) + \"/S\" + str(j) + \"R\" + str(i) + \".edf\"\n",
        "\n",
        "    j_subject_data.append(mne.io.read_raw_edf(file, verbose = False))\n",
        "    j_subject_label.append(mne.read_annotations(file))\n",
        "  data.append(j_subject_data)\n",
        "  labels.append(j_subject_label)\n"
      ],
      "metadata": {
        "id": "W9MYYWzvNaGR"
      },
      "execution_count": null,
      "outputs": []
    },
    {
      "cell_type": "markdown",
      "source": [
        "# Global variables\n",
        "\n",
        "These are needed to define which trials for a subject relate to indivbidual fists and which relate to both fist/feet clenching"
      ],
      "metadata": {
        "id": "CzlmSjD-AxX3"
      }
    },
    {
      "cell_type": "code",
      "source": [
        "# we define different trials with different results\n",
        "individual_fist_trials = [3, 4, 7, 8, 11, 12]\n",
        "# if a trial is not one of these, then it is either both feet closing or both fists closing"
      ],
      "metadata": {
        "id": "WVYLcTXM_xU8"
      },
      "execution_count": null,
      "outputs": []
    },
    {
      "cell_type": "markdown",
      "source": [
        "# EEG Power Analysis/Time frequency analysis\n",
        "Code that allows us to visually inspect the EEG power for a fixed subject's trial"
      ],
      "metadata": {
        "id": "8o3hP_UlESVN"
      }
    },
    {
      "cell_type": "code",
      "source": [
        "# Choose some data to observe\n",
        "filt_raw = data[0][2].copy()\n",
        "\n",
        "events = mne.events_from_annotations(filt_raw)\n",
        "\n",
        "max_time_point = 4\n",
        "min_time_point = -1\n",
        "channel_epochs = mne.Epochs(filt_raw, events[0], tmax=max_time_point, tmin=min_time_point)\n",
        "t0_epoch = channel_epochs['1']\n",
        "t1_epoch = channel_epochs['2']\n",
        "t2_epoch = channel_epochs['3']\n",
        "\n",
        "frequencies = np.arange(1, 4)\n",
        "power = mne.time_frequency.tfr_morlet(\n",
        "    t2_epoch, n_cycles=2, return_itc=False, freqs=frequencies, decim=3\n",
        ")\n",
        "power.apply_baseline((min_time_point, max_time_point))\n",
        "power.plot([\"C3..\", \"C4..\", \"Cz..\"])\n",
        "\n",
        "frequencies = np.arange(13, 17)\n",
        "power = mne.time_frequency.tfr_morlet(\n",
        "    t2_epoch, n_cycles=2, return_itc=False, freqs=frequencies, decim=3\n",
        ")\n",
        "power.apply_baseline((min_time_point, max_time_point))\n",
        "power.plot([\"C3..\", \"C4..\", \"Cz..\"])"
      ],
      "metadata": {
        "id": "l20pY-WeEcJu"
      },
      "execution_count": null,
      "outputs": []
    },
    {
      "cell_type": "markdown",
      "source": [
        "# Helper functions\n",
        "These are functions to get labels and to pre-process and retrieve the EEG data\n",
        "\n",
        "NOTE that this assumes we are preprocessing the data with a 13-17 bandpass filter and baseline correction, to do the 1-4 Hz processing change the paramaters of the filter function and remove the apply_baseline function call"
      ],
      "metadata": {
        "id": "e-n6RTAwMPEW"
      }
    },
    {
      "cell_type": "code",
      "source": [
        "def pre_proccess_data(raw_data: mne.io.Raw):\n",
        "  \"\"\"\n",
        "  Pre-proccess the data\n",
        "  \"\"\"\n",
        "\n",
        "  # right now we filter for 13-17 frequency\n",
        "  filt_raw = raw_data.load_data(verbose=False).filter(l_freq=13, h_freq=17, verbose=False)\n",
        "  # get events to create power object\n",
        "  events = mne.events_from_annotations(raw_data, verbose=False)\n",
        "\n",
        "  # define time points to sample from and epochs\n",
        "  max_time_point = 2\n",
        "  min_time_point = -0.5\n",
        "  epochs = mne.Epochs(filt_raw, events[0], tmax=max_time_point, tmin=min_time_point, verbose=False, preload=True)\n",
        "  epochs = epochs.pick(picks=channels, verbose=False).apply_baseline((None, None), verbose=False)\n",
        "\n",
        "  return epochs"
      ],
      "metadata": {
        "id": "HnEd_-lGAx1e"
      },
      "execution_count": null,
      "outputs": []
    },
    {
      "cell_type": "code",
      "source": [
        "def get_evoked_data(data, subject_index: int):\n",
        "  \"\"\"\n",
        "  Gets the evoked response for an epoch for a subject at different trials\n",
        "  \"\"\"\n",
        "\n",
        "  epoch = pre_proccess_data(data[subject_index])\n",
        "  t0_evoked = epoch[\"1\"].average()\n",
        "  t1_evoked = epoch[\"2\"].average()\n",
        "  t2_evoked = epoch[\"3\"].average()\n",
        "\n",
        "  return (t0_evoked, t1_evoked, t2_evoked)"
      ],
      "metadata": {
        "id": "DuLWM8AhA0_W"
      },
      "execution_count": null,
      "outputs": []
    },
    {
      "cell_type": "code",
      "source": [
        "def get_true_label(t_label: str, trial_number: int) -> int:\n",
        "  \"\"\"\n",
        "  Converts the labels given by the dataset (T0, T1, T2) to binary label\n",
        "  \"\"\"\n",
        "  final_vector = [0, 0, 0, 0, 0]\n",
        "\n",
        "  if t_label == \"T0\":\n",
        "    final_vector[0] = 1\n",
        "  elif t_label == \"T1\":\n",
        "    if trial_number in individual_fist_trials:\n",
        "      final_vector[2] = 1\n",
        "    # other wise it is both fists clenching\n",
        "    else:\n",
        "      final_vector[3] = 1\n",
        "  else: # t_label == \"T2\"\n",
        "    if trial_number in individual_fist_trials:\n",
        "      final_vector[1] = 1\n",
        "    # other wise it is both feet clenching\n",
        "    else:\n",
        "      final_vector[4] = 1\n",
        "  return final_vector"
      ],
      "metadata": {
        "id": "4eeiqTrsA2vl"
      },
      "execution_count": null,
      "outputs": []
    },
    {
      "cell_type": "markdown",
      "source": [
        "# Loading data\n",
        "\n",
        "Below is the load_training_data function"
      ],
      "metadata": {
        "id": "1tSaAxySAmAm"
      }
    },
    {
      "cell_type": "code",
      "source": [
        "def load_training_data(x_train: list[list[int]], y_train: list, data: list[list[int]], labels: list) -> None:\n",
        "  \"\"\"\n",
        "  Loads data into x_train and y_train\n",
        "  data is one subjects list of trials\n",
        "  labels are the appropriate labels for each trial\n",
        "  \"\"\"\n",
        "  # i is the trial number, e.g. i = 1 corrosponds to R01\n",
        "  for i in range(1, len(labels) + 1):\n",
        "\n",
        "    if i != 1 and i != 2:\n",
        "      # get evoked data for each trial\n",
        "      evoked_data = get_evoked_data(data, i - 1)\n",
        "      t_labels = [\"T0\", \"T1\", \"T2\"]\n",
        "\n",
        "      for j in range(0, 3):\n",
        "        x_train.append(evoked_data[j].data.tolist())\n",
        "        y_train.append(get_true_label(t_labels[j], i))"
      ],
      "metadata": {
        "id": "LCU3dXFQA49V"
      },
      "execution_count": null,
      "outputs": []
    },
    {
      "cell_type": "markdown",
      "source": [
        "# Load data into x_train and y_train"
      ],
      "metadata": {
        "id": "tybK-Gwr6eck"
      }
    },
    {
      "cell_type": "code",
      "source": [
        "channels = ['C4..', 'C3..', 'Cz..']\n",
        "# CHANGE PATH_TO_SAVE TO SAVE TO FOLDER\n",
        "PATH_TO_SAVE = \"./\"\n",
        "for index_of_subject in range(0, len(data)):\n",
        "  x_train, y_train = [], []\n",
        "  load_training_data(x_train, y_train, data[index_of_subject], labels[index_of_subject])\n",
        "  x_train = np.array(x_train)\n",
        "  y_train = np.array(y_train)\n",
        "  with open(PATH_TO_SAVE + '/S' + str(index_of_subject + 95) + '.pickle', 'wb') as file:\n",
        "    pickle.dump((x_train, y_train), file)"
      ],
      "metadata": {
        "id": "SB8ZgBa86JIy"
      },
      "execution_count": null,
      "outputs": []
    }
  ]
}
